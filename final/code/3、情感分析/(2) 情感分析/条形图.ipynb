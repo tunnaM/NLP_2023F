{
 "cells": [
  {
   "cell_type": "code",
   "execution_count": 14,
   "id": "f6cea290",
   "metadata": {},
   "outputs": [],
   "source": [
    "import pandas as pd\n",
    "from pathlib import Path\n",
    "\n",
    "import matplotlib.pyplot as plt\n",
    "plt.rcParams['font.sans-serif'] = ['SimHei'] \n",
    "plt.rcParams['axes.unicode_minus'] = False "
   ]
  },
  {
   "cell_type": "code",
   "execution_count": 15,
   "id": "91be036d",
   "metadata": {},
   "outputs": [],
   "source": [
    "file = pd.read_excel('/Users/cc/python2/瑞金医院好评得分.xlsx')"
   ]
  },
  {
   "cell_type": "code",
   "execution_count": 42,
   "id": "71018940",
   "metadata": {},
   "outputs": [
    {
     "data": {
      "text/plain": [
       "0.8872977823857998"
      ]
     },
     "execution_count": 42,
     "metadata": {},
     "output_type": "execute_result"
    }
   ],
   "source": [
    "a = file.loc[(file['年份'] == 2021)]\n",
    "A = a['评论得分'].mean()\n",
    "A"
   ]
  },
  {
   "cell_type": "code",
   "execution_count": 43,
   "id": "ea76afa8",
   "metadata": {},
   "outputs": [
    {
     "data": {
      "text/plain": [
       "0.9025671685571678"
      ]
     },
     "execution_count": 43,
     "metadata": {},
     "output_type": "execute_result"
    }
   ],
   "source": [
    "b = file.loc[(file['年份'] == 2022)]\n",
    "B = b['评论得分'].mean()\n",
    "B"
   ]
  },
  {
   "cell_type": "code",
   "execution_count": 44,
   "id": "30ad05bc",
   "metadata": {},
   "outputs": [
    {
     "data": {
      "text/plain": [
       "0.9206079540353121"
      ]
     },
     "execution_count": 44,
     "metadata": {},
     "output_type": "execute_result"
    }
   ],
   "source": [
    "c = file.loc[(file['年份'] == 2023)]\n",
    "C = c['评论得分'].mean()\n",
    "C"
   ]
  },
  {
   "cell_type": "code",
   "execution_count": 65,
   "id": "69ec196c",
   "metadata": {},
   "outputs": [
    {
     "data": {
      "text/plain": [
       "<BarContainer object of 3 artists>"
      ]
     },
     "execution_count": 65,
     "metadata": {},
     "output_type": "execute_result"
    },
    {
     "data": {
      "image/png": "[encoded data removed]",
      "text/plain": [
       "<Figure size 432x288 with 1 Axes>"
      ]
     },
     "metadata": {
      "needs_background": "light"
     },
     "output_type": "display_data"
    }
   ],
   "source": [
    "years = ['2021','2022','2023']\n",
    "values = [A,B,C]\n",
    "plt.barh(years, width = values)"
   ]
  },
  {
   "cell_type": "code",
   "execution_count": null,
   "id": "29969790",
   "metadata": {},
   "outputs": [],
   "source": []
  },
  {
   "cell_type": "code",
   "execution_count": null,
   "id": "787d410f",
   "metadata": {},
   "outputs": [],
   "source": []
  }
 ],
 "metadata": {
  "kernelspec": {
   "display_name": "Python 3 (ipykernel)",
   "language": "python",
   "name": "python3"
  },
  "language_info": {
   "codemirror_mode": {
    "name": "ipython",
    "version": 3
   },
   "file_extension": ".py",
   "mimetype": "text/x-python",
   "name": "python",
   "nbconvert_exporter": "python",
   "pygments_lexer": "ipython3",
   "version": "3.9.12"
  }
 },
 "nbformat": 4,
 "nbformat_minor": 5
}
