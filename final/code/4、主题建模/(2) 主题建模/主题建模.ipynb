{
 "cells": [
  {
   "cell_type": "code",
   "execution_count": 73,
   "id": "779c9554",
   "metadata": {},
   "outputs": [],
   "source": [
    "import pandas as pd \n",
    "import numpy as np\n",
    "import matplotlib.pyplot as plt\n",
    "import matplotlib\n",
    "from tkinter import _flatten"
   ]
  },
  {
   "cell_type": "code",
   "execution_count": 3,
   "id": "955edbc6",
   "metadata": {},
   "outputs": [],
   "source": [
    "import re\n",
    "import jieba"
   ]
  },
  {
   "cell_type": "code",
   "execution_count": 4,
   "id": "d2f3f4e7",
   "metadata": {},
   "outputs": [],
   "source": [
    "import gensim\n",
    "from gensim import corpora, models\n",
    "import warnings\n",
    "warnings.filterwarnings('ignore')  # To ignore all warnings that arise here to enhance clarity\n",
    " \n",
    "from gensim.models.coherencemodel import CoherenceModel\n",
    "from gensim.models import LdaModel"
   ]
  },
  {
   "cell_type": "code",
   "execution_count": 219,
   "id": "46f9e14a",
   "metadata": {},
   "outputs": [],
   "source": [
    "df1 = pd.read_csv('顶流医生.txt', sep='\\t',header=None)\n",
    "df2 = pd.read_csv('优质医生.txt', sep='\\t',header=None)\n",
    "df3 = pd.read_csv('普通医生.txt', sep='\\t',header=None)\n",
    "df4 = pd.read_csv('尾部医生.txt', sep='\\t',header=None)\n",
    "df = pd.concat([df1, df2, df3, df4], ignore_index=True)"
   ]
  },
  {
   "cell_type": "code",
   "execution_count": 184,
   "id": "f5fe5da8",
   "metadata": {},
   "outputs": [],
   "source": [
    "def sw(filename):\n",
    "    with open(filename, encoding=\"utf-8\") as file:\n",
    "        x = file.readlines()\n",
    "    y = [word.strip() for word in x]\n",
    "    return y"
   ]
  },
  {
   "cell_type": "code",
   "execution_count": 295,
   "id": "96acb13a",
   "metadata": {},
   "outputs": [],
   "source": [
    "name_list = ['stopword/baidu_stopwords.txt', 'stopword/cn_stopwords.txt', \n",
    "            'stopword/hit_stopwords.txt','stopword/scu_stopwords.txt','stopword/select.txt']\n",
    "stop_word = []\n",
    "for x in name_list:\n",
    "    stop_word.extend(sw(x))\n",
    "    stop_word = list(set(stop_word))"
   ]
  },
  {
   "cell_type": "code",
   "execution_count": 296,
   "id": "166c4a64",
   "metadata": {},
   "outputs": [],
   "source": [
    "df[\"分词\"]=\"\"\n",
    "for i in range(len(df)):\n",
    "    line = ''.join(re.findall('[\\u4e00-\\u9fa5a-zA-Z]',str(df[0][i])))\n",
    "    if line:\n",
    "        c = jieba.lcut(line)\n",
    "        result = [word for word in c if word not in stop_word]\n",
    "        c = [word for word in result if len(word)>1]\n",
    "        if c == []:\n",
    "            df[\"分词\"][i] = None\n",
    "        else:\n",
    "            df[\"分词\"][i] = c"
   ]
  },
  {
   "cell_type": "code",
   "execution_count": 297,
   "id": "36897a4a",
   "metadata": {},
   "outputs": [],
   "source": [
    "df = df.dropna()"
   ]
  },
  {
   "cell_type": "code",
   "execution_count": 298,
   "id": "e3fc39d6",
   "metadata": {},
   "outputs": [
    {
     "data": {
      "text/html": [
       "<div>\n",
       "<style scoped>\n",
       "    .dataframe tbody tr th:only-of-type {\n",
       "        vertical-align: middle;\n",
       "    }\n",
       "\n",
       "    .dataframe tbody tr th {\n",
       "        vertical-align: top;\n",
       "    }\n",
       "\n",
       "    .dataframe thead th {\n",
       "        text-align: right;\n",
       "    }\n",
       "</style>\n",
       "<table border=\"1\" class=\"dataframe\">\n",
       "  <thead>\n",
       "    <tr style=\"text-align: right;\">\n",
       "      <th></th>\n",
       "      <th>0</th>\n",
       "      <th>分词</th>\n",
       "    </tr>\n",
       "  </thead>\n",
       "  <tbody>\n",
       "    <tr>\n",
       "      <th>0</th>\n",
       "      <td>问：是否参与过好大夫等在线诊疗平台或者是您所在医院建立的互联网医院的诊断工作？</td>\n",
       "      <td>[参与, 过好, 大夫, 或者, 所在, 建立, 诊断]</td>\n",
       "    </tr>\n",
       "    <tr>\n",
       "      <th>1</th>\n",
       "      <td>答：都参加过。</td>\n",
       "      <td>[参加]</td>\n",
       "    </tr>\n",
       "    <tr>\n",
       "      <th>2</th>\n",
       "      <td>因为疫情期间，我觉得上级也是有要求的。确实，也是时代和趋势的发展，同时我想我们自己医生也认识...</td>\n",
       "      <td>[疫情, 期间, 上级, 要求, 确实, 时代, 趋势, 发展, 同时, 自己, 认识, 媒...</td>\n",
       "    </tr>\n",
       "    <tr>\n",
       "      <th>3</th>\n",
       "      <td>问：现阶段医生参与互联网问诊的积极性怎么样，主要是什么吸引医生参加互联网医院问诊？</td>\n",
       "      <td>[现阶段, 参与, 问诊, 积极性, 怎么样, 主要, 什么, 吸引, 参加, 问诊]</td>\n",
       "    </tr>\n",
       "    <tr>\n",
       "      <th>4</th>\n",
       "      <td>答：有这个意识的医生积极性都很高。首先是我觉得我实实在在我能帮助那些需要我的提供帮助的人，对...</td>\n",
       "      <td>[答有, 意识, 积极性, 首先, 实实在在, 我能, 帮助, 那些, 需要, 提供, 帮助...</td>\n",
       "    </tr>\n",
       "  </tbody>\n",
       "</table>\n",
       "</div>"
      ],
      "text/plain": [
       "                                                   0  \\\n",
       "0            问：是否参与过好大夫等在线诊疗平台或者是您所在医院建立的互联网医院的诊断工作？   \n",
       "1                                            答：都参加过。   \n",
       "2  因为疫情期间，我觉得上级也是有要求的。确实，也是时代和趋势的发展，同时我想我们自己医生也认识...   \n",
       "3          问：现阶段医生参与互联网问诊的积极性怎么样，主要是什么吸引医生参加互联网医院问诊？   \n",
       "4  答：有这个意识的医生积极性都很高。首先是我觉得我实实在在我能帮助那些需要我的提供帮助的人，对...   \n",
       "\n",
       "                                                  分词  \n",
       "0                       [参与, 过好, 大夫, 或者, 所在, 建立, 诊断]  \n",
       "1                                               [参加]  \n",
       "2  [疫情, 期间, 上级, 要求, 确实, 时代, 趋势, 发展, 同时, 自己, 认识, 媒...  \n",
       "3        [现阶段, 参与, 问诊, 积极性, 怎么样, 主要, 什么, 吸引, 参加, 问诊]  \n",
       "4  [答有, 意识, 积极性, 首先, 实实在在, 我能, 帮助, 那些, 需要, 提供, 帮助...  "
      ]
     },
     "execution_count": 298,
     "metadata": {},
     "output_type": "execute_result"
    }
   ],
   "source": [
    "df.head()"
   ]
  },
  {
   "cell_type": "code",
   "execution_count": 299,
   "id": "fe819db6",
   "metadata": {},
   "outputs": [],
   "source": [
    "data_set = df['分词'].tolist()\n",
    "dictionary = corpora.Dictionary(data_set)  # 构建词典\n",
    "corpus = [dictionary.doc2bow(text) for text in data_set]  #表示为第几个单词出现了几次"
   ]
  },
  {
   "cell_type": "code",
   "execution_count": 112,
   "id": "4b80fa3e",
   "metadata": {},
   "outputs": [
    {
     "name": "stdout",
     "output_type": "stream",
     "text": [
      "[(0, '0.029*\"管理\" + 0.020*\"很多\" + 0.020*\"问题\" + 0.020*\"医院\" + 0.015*\"一定\"'), (1, '0.042*\"医院\" + 0.026*\"需要\" + 0.026*\"帮助\" + 0.018*\"提供\" + 0.018*\"互联网\"'), (2, '0.043*\"医生\" + 0.038*\"医院\" + 0.029*\"学科\" + 0.024*\"发展\" + 0.020*\"互联网\"'), (3, '0.030*\"互联网\" + 0.030*\"问诊\" + 0.030*\"参加\" + 0.030*\"医生\" + 0.017*\"参与\"')]\n"
     ]
    }
   ],
   "source": [
    "num_topics = 4\n",
    "ldamodel = LdaModel(corpus, num_topics=num_topics, id2word = dictionary, passes=30,random_state = 1)   #分为10个主题\n",
    "print(ldamodel.print_topics(num_topics=num_topics, num_words=5))  #每个主题输出15个单词"
   ]
  },
  {
   "cell_type": "code",
   "execution_count": 287,
   "id": "dda9beed",
   "metadata": {},
   "outputs": [],
   "source": [
    "#计算coherence\n",
    "def coherence(num_topics):\n",
    "    ldamodel = LdaModel(corpus, num_topics=num_topics, id2word = dictionary, passes=50, random_state = 1)\n",
    "    # print(ldamodel.print_topics(num_topics=num_topics, num_words=5))\n",
    "    ldacm = CoherenceModel(model=ldamodel, texts=data_set, dictionary=dictionary, coherence='c_v')\n",
    "    print(ldacm.get_coherence())\n",
    "    return ldacm.get_coherence()"
   ]
  },
  {
   "cell_type": "code",
   "execution_count": 300,
   "id": "02a0ebca",
   "metadata": {},
   "outputs": [
    {
     "name": "stdout",
     "output_type": "stream",
     "text": [
      "0.22886453134313914\n",
      "0.271920130866302\n",
      "0.28038028318640734\n",
      "0.36385375950111776\n",
      "0.37266508902180157\n",
      "0.35921787194840493\n",
      "0.35859762249258403\n"
     ]
    },
    {
     "data": {
      "image/png": "[encoded data removed]",
      "text/plain": [
       "<Figure size 432x288 with 1 Axes>"
      ]
     },
     "metadata": {
      "needs_background": "light"
     },
     "output_type": "display_data"
    }
   ],
   "source": [
    "x = range(1,8)\n",
    "y = [coherence(i) for i in x]\n",
    "plt.plot(x, y)\n",
    "plt.xlabel('主题数目')\n",
    "plt.ylabel('coherence大小')\n",
    "plt.rcParams['font.sans-serif']=['SimHei']\n",
    "matplotlib.rcParams['axes.unicode_minus']=False\n",
    "plt.title('主题-coherence变化情况')\n",
    "plt.show()"
   ]
  },
  {
   "cell_type": "code",
   "execution_count": 302,
   "id": "1a83af1b",
   "metadata": {},
   "outputs": [
    {
     "name": "stdout",
     "output_type": "stream",
     "text": [
      "0:\n",
      "  \"效率\" (0.018)\n",
      "  \"时间\" ( 0.015)\n",
      "  \"今天\" ( 0.015)\n",
      "  \"情况\" ( 0.011)\n",
      "  \"沟通\"( 0.011)\n",
      "1:\n",
      "  \"提高\" (0.014)\n",
      "  \"个人\" ( 0.012)\n",
      "  \"建立\" ( 0.009)\n",
      "  \"能够\" ( 0.009)\n",
      "  \"薪酬\"( 0.007)\n",
      "2:\n",
      "  \"预约\" (0.013)\n",
      "  \"解决\" ( 0.012)\n",
      "  \"资源\" ( 0.011)\n",
      "  \"需要\" ( 0.010)\n",
      "  \"其实\"( 0.009)\n",
      "3:\n",
      "  \"学科\" (0.021)\n",
      "  \"影响\" ( 0.015)\n",
      "  \"风险\" ( 0.014)\n",
      "  \"发展\" ( 0.013)\n",
      "  \"慢性病\"( 0.011)\n"
     ]
    }
   ],
   "source": [
    "lda = LdaModel(corpus=corpus, id2word=dictionary, num_topics=4, passes = 50,random_state=1)\n",
    "\n",
    "for topic in lda.print_topics(num_words = 5):\n",
    "    termNumber = topic[0]\n",
    "    print(topic[0], ':', sep='')\n",
    "    listOfTerms = topic[1].split('+')\n",
    "    for term in listOfTerms:\n",
    "        listItems = term.split('*')\n",
    "        print('  ', listItems[1], '(', listItems[0], ')', sep='')"
   ]
  },
  {
   "cell_type": "code",
   "execution_count": 122,
   "id": "33d8c0bd",
   "metadata": {},
   "outputs": [],
   "source": [
    "import pyLDAvis.gensim_models as gensimvis\n",
    "import pyLDAvis"
   ]
  },
  {
   "cell_type": "code",
   "execution_count": 303,
   "id": "0d464cd6",
   "metadata": {},
   "outputs": [],
   "source": [
    "pyLDAvis.enable_notebook()\n",
    "\n",
    "'''\n",
    "lda: 计算好的话题模型\n",
    "\n",
    "corpus: 文档词频矩阵\n",
    "\n",
    "dictionary: 词语空间\n",
    "'''\n",
    "d = gensimvis.prepare(lda, corpus, dictionary)\n",
    "pyLDAvis.save_html(d, '医生.html')"
   ]
  },
  {
   "cell_type": "code",
   "execution_count": null,
   "id": "1b7f82c5",
   "metadata": {},
   "outputs": [],
   "source": []
  },
  {
   "cell_type": "code",
   "execution_count": null,
   "id": "476916f6",
   "metadata": {},
   "outputs": [],
   "source": []
  },
  {
   "cell_type": "code",
   "execution_count": null,
   "id": "b87c35c0",
   "metadata": {},
   "outputs": [],
   "source": []
  },
  {
   "cell_type": "code",
   "execution_count": null,
   "id": "216ea8df",
   "metadata": {},
   "outputs": [],
   "source": []
  },
  {
   "cell_type": "code",
   "execution_count": null,
   "id": "546c300e",
   "metadata": {},
   "outputs": [],
   "source": []
  },
  {
   "cell_type": "code",
   "execution_count": null,
   "id": "fc91934c",
   "metadata": {},
   "outputs": [],
   "source": []
  },
  {
   "cell_type": "code",
   "execution_count": null,
   "id": "64c4c242",
   "metadata": {},
   "outputs": [],
   "source": []
  },
  {
   "cell_type": "code",
   "execution_count": null,
   "id": "8635a049",
   "metadata": {},
   "outputs": [],
   "source": []
  },
  {
   "cell_type": "code",
   "execution_count": null,
   "id": "4a7f0717",
   "metadata": {},
   "outputs": [],
   "source": []
  }
 ],
 "metadata": {
  "kernelspec": {
   "display_name": "Python 3 (ipykernel)",
   "language": "python",
   "name": "python3"
  },
  "language_info": {
   "codemirror_mode": {
    "name": "ipython",
    "version": 3
   },
   "file_extension": ".py",
   "mimetype": "text/x-python",
   "name": "python",
   "nbconvert_exporter": "python",
   "pygments_lexer": "ipython3",
   "version": "3.8.5"
  }
 },
 "nbformat": 4,
 "nbformat_minor": 5
}
