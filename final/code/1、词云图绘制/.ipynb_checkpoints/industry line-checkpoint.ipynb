{
 "cells": [
  {
   "cell_type": "markdown",
   "id": "902f1a2f",
   "metadata": {},
   "source": [
    "# industry line"
   ]
  },
  {
   "cell_type": "markdown",
   "id": "09680577",
   "metadata": {},
   "source": [
    "#### 1.数据读取"
   ]
  },
  {
   "cell_type": "code",
   "execution_count": 1,
   "id": "d1362aaf",
   "metadata": {},
   "outputs": [],
   "source": [
    "import pandas as pd\n",
    "filename = \"RawData.xlsx\"\n",
    "data = pd.read_excel(filename, sheet_name = '题干导出0927')"
   ]
  },
  {
   "cell_type": "code",
   "execution_count": 2,
   "id": "55f779c5",
   "metadata": {},
   "outputs": [
    {
     "data": {
      "text/html": [
       "<div>\n",
       "<style scoped>\n",
       "    .dataframe tbody tr th:only-of-type {\n",
       "        vertical-align: middle;\n",
       "    }\n",
       "\n",
       "    .dataframe tbody tr th {\n",
       "        vertical-align: top;\n",
       "    }\n",
       "\n",
       "    .dataframe thead th {\n",
       "        text-align: right;\n",
       "    }\n",
       "</style>\n",
       "<table border=\"1\" class=\"dataframe\">\n",
       "  <thead>\n",
       "    <tr style=\"text-align: right;\">\n",
       "      <th></th>\n",
       "      <th>行业线</th>\n",
       "      <th>服务线</th>\n",
       "      <th>题干</th>\n",
       "      <th>选项</th>\n",
       "      <th>项目数</th>\n",
       "      <th>用户数</th>\n",
       "    </tr>\n",
       "  </thead>\n",
       "  <tbody>\n",
       "    <tr>\n",
       "      <th>0</th>\n",
       "      <td>NaN</td>\n",
       "      <td>AMD - Automotive &amp; Mobility Dev</td>\n",
       "      <td>0-6改进部分</td>\n",
       "      <td>不太熟悉这个公司</td>\n",
       "      <td>1</td>\n",
       "      <td>36</td>\n",
       "    </tr>\n",
       "    <tr>\n",
       "      <th>1</th>\n",
       "      <td>NaN</td>\n",
       "      <td>AMD - Automotive &amp; Mobility Dev</td>\n",
       "      <td>0-6改进部分</td>\n",
       "      <td>产品销售渠道少</td>\n",
       "      <td>1</td>\n",
       "      <td>4</td>\n",
       "    </tr>\n",
       "    <tr>\n",
       "      <th>2</th>\n",
       "      <td>NaN</td>\n",
       "      <td>AMD - Automotive &amp; Mobility Dev</td>\n",
       "      <td>0-6改进部分</td>\n",
       "      <td>代理人流失率太高/流动性大/经常换</td>\n",
       "      <td>1</td>\n",
       "      <td>8</td>\n",
       "    </tr>\n",
       "    <tr>\n",
       "      <th>3</th>\n",
       "      <td>NaN</td>\n",
       "      <td>AMD - Automotive &amp; Mobility Dev</td>\n",
       "      <td>0-6改进部分</td>\n",
       "      <td>价格（保费）便宜/合理</td>\n",
       "      <td>1</td>\n",
       "      <td>2</td>\n",
       "    </tr>\n",
       "    <tr>\n",
       "      <th>4</th>\n",
       "      <td>NaN</td>\n",
       "      <td>AMD - Automotive &amp; Mobility Dev</td>\n",
       "      <td>0-6改进部分</td>\n",
       "      <td>客户活动组织少</td>\n",
       "      <td>1</td>\n",
       "      <td>18</td>\n",
       "    </tr>\n",
       "    <tr>\n",
       "      <th>...</th>\n",
       "      <td>...</td>\n",
       "      <td>...</td>\n",
       "      <td>...</td>\n",
       "      <td>...</td>\n",
       "      <td>...</td>\n",
       "      <td>...</td>\n",
       "    </tr>\n",
       "    <tr>\n",
       "      <th>499995</th>\n",
       "      <td>Food (食品)</td>\n",
       "      <td>INN - Innovation</td>\n",
       "      <td>喜欢原味</td>\n",
       "      <td>No</td>\n",
       "      <td>1</td>\n",
       "      <td>424</td>\n",
       "    </tr>\n",
       "    <tr>\n",
       "      <th>499996</th>\n",
       "      <td>Food (食品)</td>\n",
       "      <td>INN - Innovation</td>\n",
       "      <td>喜欢品牌/是趣多多的牌子</td>\n",
       "      <td>Yes</td>\n",
       "      <td>1</td>\n",
       "      <td>6</td>\n",
       "    </tr>\n",
       "    <tr>\n",
       "      <th>499997</th>\n",
       "      <td>Food (食品)</td>\n",
       "      <td>INN - Innovation</td>\n",
       "      <td>喜欢新包装的原因</td>\n",
       "      <td>包装新颖/独特</td>\n",
       "      <td>1</td>\n",
       "      <td>6</td>\n",
       "    </tr>\n",
       "    <tr>\n",
       "      <th>499998</th>\n",
       "      <td>Food (食品)</td>\n",
       "      <td>INN - Innovation</td>\n",
       "      <td>喜欢新包装的原因</td>\n",
       "      <td>瓶标图案新颖/独特</td>\n",
       "      <td>1</td>\n",
       "      <td>3</td>\n",
       "    </tr>\n",
       "    <tr>\n",
       "      <th>499999</th>\n",
       "      <td>Food (食品)</td>\n",
       "      <td>INN - Innovation</td>\n",
       "      <td>喜欢新包装的原因</td>\n",
       "      <td>瓶标文字大小适中</td>\n",
       "      <td>1</td>\n",
       "      <td>3</td>\n",
       "    </tr>\n",
       "  </tbody>\n",
       "</table>\n",
       "<p>500000 rows × 6 columns</p>\n",
       "</div>"
      ],
      "text/plain": [
       "              行业线                              服务线            题干  \\\n",
       "0             NaN  AMD - Automotive & Mobility Dev       0-6改进部分   \n",
       "1             NaN  AMD - Automotive & Mobility Dev       0-6改进部分   \n",
       "2             NaN  AMD - Automotive & Mobility Dev       0-6改进部分   \n",
       "3             NaN  AMD - Automotive & Mobility Dev       0-6改进部分   \n",
       "4             NaN  AMD - Automotive & Mobility Dev       0-6改进部分   \n",
       "...           ...                              ...           ...   \n",
       "499995  Food (食品)                 INN - Innovation          喜欢原味   \n",
       "499996  Food (食品)                 INN - Innovation  喜欢品牌/是趣多多的牌子   \n",
       "499997  Food (食品)                 INN - Innovation      喜欢新包装的原因   \n",
       "499998  Food (食品)                 INN - Innovation      喜欢新包装的原因   \n",
       "499999  Food (食品)                 INN - Innovation      喜欢新包装的原因   \n",
       "\n",
       "                       选项  项目数  用户数  \n",
       "0                不太熟悉这个公司    1   36  \n",
       "1                 产品销售渠道少    1    4  \n",
       "2       代理人流失率太高/流动性大/经常换    1    8  \n",
       "3             价格（保费）便宜/合理    1    2  \n",
       "4                 客户活动组织少    1   18  \n",
       "...                   ...  ...  ...  \n",
       "499995                 No    1  424  \n",
       "499996                Yes    1    6  \n",
       "499997            包装新颖/独特    1    6  \n",
       "499998          瓶标图案新颖/独特    1    3  \n",
       "499999           瓶标文字大小适中    1    3  \n",
       "\n",
       "[500000 rows x 6 columns]"
      ]
     },
     "execution_count": 2,
     "metadata": {},
     "output_type": "execute_result"
    }
   ],
   "source": [
    "data"
   ]
  },
  {
   "cell_type": "code",
   "execution_count": 6,
   "id": "1740c1ed",
   "metadata": {},
   "outputs": [
    {
     "ename": "NameError",
     "evalue": "name 'IN_CB_data' is not defined",
     "output_type": "error",
     "traceback": [
      "\u001b[1;31m---------------------------------------------------------------------------\u001b[0m",
      "\u001b[1;31mNameError\u001b[0m                                 Traceback (most recent call last)",
      "Cell \u001b[1;32mIn [6], line 2\u001b[0m\n\u001b[0;32m      1\u001b[0m targetList \u001b[39m=\u001b[39m [\u001b[39m'\u001b[39m\u001b[39mYes\u001b[39m\u001b[39m'\u001b[39m,\u001b[39m'\u001b[39m\u001b[39mNo\u001b[39m\u001b[39m'\u001b[39m]\n\u001b[1;32m----> 2\u001b[0m TF_IN_CB_data \u001b[39m=\u001b[39m IN_CB_data[IN_CB_data[\u001b[39m'\u001b[39m\u001b[39m选项\u001b[39m\u001b[39m'\u001b[39m]\u001b[39m.\u001b[39misin(targetList)]\n",
      "\u001b[1;31mNameError\u001b[0m: name 'IN_CB_data' is not defined"
     ]
    }
   ],
   "source": [
    "targetList = ['Yes','No']\n",
    "TF_IN_CB_data = IN_CB_data[IN_CB_data['选项'].isin(targetList)]"
   ]
  },
  {
   "cell_type": "code",
   "execution_count": 5,
   "id": "f4e6741b",
   "metadata": {},
   "outputs": [],
   "source": [
    "import re\n",
    "import jieba\n",
    "from wordcloud import WordCloud"
   ]
  },
  {
   "cell_type": "code",
   "execution_count": 6,
   "id": "82dd10f3",
   "metadata": {},
   "outputs": [],
   "source": [
    "def sw(filename):\n",
    "    with open(filename, encoding=\"utf-8\") as file:\n",
    "        x = file.readlines()\n",
    "    y = [word.strip() for word in x]\n",
    "    return y"
   ]
  },
  {
   "cell_type": "code",
   "execution_count": 8,
   "id": "eda9d792",
   "metadata": {},
   "outputs": [],
   "source": [
    "def get_varname(var, locals=locals()):\n",
    "    for k, v in locals.items():\n",
    "        if v is var:\n",
    "            return k     "
   ]
  },
  {
   "cell_type": "code",
   "execution_count": 57,
   "id": "89370408",
   "metadata": {},
   "outputs": [],
   "source": [
    "def draw_wc(datalist):\n",
    "    # 导入中文停用词\n",
    "    name_list = ['stopword/baidu_stopwords.txt', 'stopword/cn_stopwords.txt', \n",
    "            'stopword/hit_stopwords.txt','stopword/scu_stopwords.txt','stopword/select.txt']\n",
    "    stop_word = []\n",
    "    for x in name_list:\n",
    "        stop_word.extend(sw(x))\n",
    "    stop_word = list(set(stop_word))\n",
    "    # 中英文分词\n",
    "    sentence = datalist['题干'].tolist()\n",
    "    sentence.extend(datalist['选项'].tolist())\n",
    "    txt_c = \"\"\n",
    "    counts = {}\n",
    "    for i in range(0,len(sentence)):\n",
    "        line = ''.join(re.findall('[\\u4e00-\\u9fa5]',str(sentence[i])))\n",
    "        if line:\n",
    "            c = jieba.lcut(line)\n",
    "            result = [word for word in c if word not in stop_word]\n",
    "            c = [word for word in result if len(word)>1]\n",
    "            txt_c += \" \".join(c)\n",
    "            # 词频统计\n",
    "            for c_i in c:\n",
    "                if len(c_i) == 1:\n",
    "                    continue\n",
    "                else:\n",
    "                    counts[c_i] = counts.get(c_i,0) + 1\n",
    "    # 词频统计处理\n",
    "    items = list(counts.items())\n",
    "    items.sort(key=lambda x:x[1], reverse=True)\n",
    "    # 绘制中文词云图\n",
    "    font = r'C:\\Windows\\Fonts\\simkai.ttf'\n",
    "    wc = WordCloud(font_path=font,\n",
    "    background_color='white',width=1000,height=800).generate(txt_c)\n",
    "    wc.to_file(get_varname(datalist) + '.png')\n",
    "    return items\n"
   ]
  },
  {
   "cell_type": "code",
   "execution_count": 110,
   "id": "dcce3939",
   "metadata": {},
   "outputs": [],
   "source": [
    "DA_data = data[data['行业线']=='Dairy (乳制品)']"
   ]
  },
  {
   "cell_type": "code",
   "execution_count": 111,
   "id": "9a587796",
   "metadata": {},
   "outputs": [],
   "source": [
    "NA_DA_data = DA_data[DA_data[['服务线']].isnull().T.any()] "
   ]
  },
  {
   "cell_type": "code",
   "execution_count": 121,
   "id": "c69869fe",
   "metadata": {},
   "outputs": [],
   "source": [
    "MSU_DA_data = DA_data[DA_data['服务线']=='MSU - Market Strat & Understanding']"
   ]
  },
  {
   "cell_type": "code",
   "execution_count": 124,
   "id": "5b524c89",
   "metadata": {},
   "outputs": [
    {
     "name": "stdout",
     "output_type": "stream",
     "text": [
      "孩子          758\n",
      "图案          753\n",
      "饮品          741\n",
      "内包          721\n",
      "新颖          701\n",
      "渠道          700\n",
      "口感          682\n",
      "食用          664\n",
      "有机          639\n",
      "纯牛奶         635\n",
      "符合          625\n",
      "健康          619\n",
      "功能          616\n",
      "搭配          588\n",
      "儿童          574\n",
      "选择          556\n",
      "光明          549\n",
      "宝宝          538\n",
      "替代          522\n",
      "问题          516\n",
      "年龄          514\n",
      "配方          505\n",
      "设计          485\n",
      "活动          482\n"
     ]
    }
   ],
   "source": [
    "DA_items = draw_wc(DA_data)\n",
    "for i in range(24,48):\n",
    "    word, count = DA_items[i]\n",
    "    print(\"{0:<10}{1:>5}\".format(word, count))"
   ]
  },
  {
   "cell_type": "code",
   "execution_count": 125,
   "id": "1e3322fb",
   "metadata": {},
   "outputs": [
    {
     "name": "stdout",
     "output_type": "stream",
     "text": [
      "原味          473\n",
      "句子          473\n",
      "活性          463\n",
      "以下          459\n",
      "联系          451\n",
      "奶酪          447\n",
      "介绍          440\n",
      "未来          435\n",
      "以上          434\n",
      "所有          422\n",
      "有点          421\n",
      "天然          420\n",
      "风味          420\n",
      "饮料          418\n",
      "认为          416\n",
      "香味          414\n",
      "具体          412\n",
      "表示          411\n",
      "不可          409\n",
      "起来          407\n",
      "需求          405\n",
      "字体          405\n",
      "好看          399\n",
      "频率          398\n"
     ]
    }
   ],
   "source": [
    "for i in range(48,72):\n",
    "    word, count = DA_items[i]\n",
    "    print(\"{0:<10}{1:>5}\".format(word, count))"
   ]
  },
  {
   "cell_type": "code",
   "execution_count": null,
   "id": "ec862e6a",
   "metadata": {},
   "outputs": [],
   "source": []
  },
  {
   "cell_type": "code",
   "execution_count": null,
   "id": "e760249c",
   "metadata": {},
   "outputs": [],
   "source": []
  },
  {
   "cell_type": "code",
   "execution_count": null,
   "id": "bc8a794a",
   "metadata": {},
   "outputs": [],
   "source": []
  },
  {
   "cell_type": "code",
   "execution_count": null,
   "id": "76487e40",
   "metadata": {},
   "outputs": [],
   "source": []
  },
  {
   "cell_type": "code",
   "execution_count": null,
   "id": "98ae52e0",
   "metadata": {},
   "outputs": [],
   "source": []
  },
  {
   "cell_type": "code",
   "execution_count": null,
   "id": "9a53acfd",
   "metadata": {},
   "outputs": [],
   "source": []
  },
  {
   "cell_type": "code",
   "execution_count": null,
   "id": "47af0dcb",
   "metadata": {},
   "outputs": [],
   "source": []
  }
 ],
 "metadata": {
  "kernelspec": {
   "display_name": "Python 3 (ipykernel)",
   "language": "python",
   "name": "python3"
  },
  "language_info": {
   "codemirror_mode": {
    "name": "ipython",
    "version": 3
   },
   "file_extension": ".py",
   "mimetype": "text/x-python",
   "name": "python",
   "nbconvert_exporter": "python",
   "pygments_lexer": "ipython3",
   "version": "3.8.5"
  },
  "vscode": {
   "interpreter": {
    "hash": "16aa9b2f0964463c55382baaf988c0dc228dd1c6b19a8e6e00be71bd80311881"
   }
  }
 },
 "nbformat": 4,
 "nbformat_minor": 5
}
