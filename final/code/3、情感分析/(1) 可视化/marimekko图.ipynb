{
 "cells": [
  {
   "cell_type": "code",
   "execution_count": 1,
   "id": "6842cd33",
   "metadata": {},
   "outputs": [],
   "source": [
    "import pandas as pd\n",
    "import datetime\n",
    "import matplotlib.pyplot as plt\n",
    "import numpy as np\n",
    "import pylab as mpl"
   ]
  },
  {
   "cell_type": "code",
   "execution_count": 3,
   "id": "e790de71",
   "metadata": {},
   "outputs": [],
   "source": [
    "import matplotlib.pyplot as plt\n",
    "plt.rcParams['font.sans-serif']=['SimHei']"
   ]
  },
  {
   "cell_type": "code",
   "execution_count": 4,
   "id": "8ba58fb2",
   "metadata": {},
   "outputs": [],
   "source": [
    "data = pd.read_csv('2021年医生信息.csv') # 数据导入"
   ]
  },
  {
   "cell_type": "code",
   "execution_count": 5,
   "id": "ae47ee09",
   "metadata": {},
   "outputs": [],
   "source": [
    "RJhos = data[data[\"医院\"]==\"上海交通大学医学院附属瑞金医院\"] # 筛选瑞金医院数据"
   ]
  },
  {
   "cell_type": "code",
   "execution_count": 6,
   "id": "f167517b",
   "metadata": {},
   "outputs": [
    {
     "data": {
      "text/plain": [
       "(807, 23)"
      ]
     },
     "execution_count": 6,
     "metadata": {},
     "output_type": "execute_result"
    }
   ],
   "source": [
    "RJhos.shape # 查看筛选后的数据条数，第一个数字代表筛选出的数据条数"
   ]
  },
  {
   "cell_type": "code",
   "execution_count": 7,
   "id": "d6696f99",
   "metadata": {},
   "outputs": [
    {
     "name": "stderr",
     "output_type": "stream",
     "text": [
      "C:\\Users\\DELL\\AppData\\Local\\Temp\\ipykernel_11424\\801280585.py:1: SettingWithCopyWarning: \n",
      "A value is trying to be set on a copy of a slice from a DataFrame.\n",
      "Try using .loc[row_indexer,col_indexer] = value instead\n",
      "\n",
      "See the caveats in the documentation: https://pandas.pydata.org/pandas-docs/stable/user_guide/indexing.html#returning-a-view-versus-a-copy\n",
      "  RJhos[\"开通时间\"] = pd.to_datetime(RJhos['开通时间']) # 将开通时间字符型转化为时间型\n"
     ]
    }
   ],
   "source": [
    "RJhos[\"开通时间\"] = pd.to_datetime(RJhos['开通时间']) # 将开通时间字符型转化为时间型"
   ]
  },
  {
   "cell_type": "code",
   "execution_count": 8,
   "id": "07c871fa",
   "metadata": {},
   "outputs": [
    {
     "name": "stderr",
     "output_type": "stream",
     "text": [
      "C:\\Users\\DELL\\AppData\\Local\\Temp\\ipykernel_11424\\2368649953.py:1: SettingWithCopyWarning: \n",
      "A value is trying to be set on a copy of a slice from a DataFrame.\n",
      "Try using .loc[row_indexer,col_indexer] = value instead\n",
      "\n",
      "See the caveats in the documentation: https://pandas.pydata.org/pandas-docs/stable/user_guide/indexing.html#returning-a-view-versus-a-copy\n",
      "  RJhos[\"上次在线\"] = pd.to_datetime(RJhos['上次在线']) # 将上次在线时间字符型转化为时间型\n"
     ]
    }
   ],
   "source": [
    "RJhos[\"上次在线\"] = pd.to_datetime(RJhos['上次在线']) # 将上次在线时间字符型转化为时间型"
   ]
  },
  {
   "cell_type": "code",
   "execution_count": 9,
   "id": "b216eb90",
   "metadata": {},
   "outputs": [],
   "source": [
    "s_date = datetime.datetime.strptime('20210401', '%Y%m%d').date() # 定一个时间标的，2021.4.1"
   ]
  },
  {
   "cell_type": "code",
   "execution_count": 10,
   "id": "2d4b1678",
   "metadata": {},
   "outputs": [],
   "source": [
    "old_hos = RJhos[RJhos['开通时间'].dt.date < s_date] # 筛选2021,4,1之前开通的医生"
   ]
  },
  {
   "cell_type": "code",
   "execution_count": 11,
   "id": "918a5812",
   "metadata": {},
   "outputs": [],
   "source": [
    "new_hos = RJhos[RJhos['开通时间'].dt.date >= s_date] # 筛选2021,4,1之后开通的医生"
   ]
  },
  {
   "cell_type": "code",
   "execution_count": 47,
   "id": "8204ef93",
   "metadata": {},
   "outputs": [],
   "source": [
    "# s7_date = datetime.datetime.strptime('20230221', '%Y%m%d').date()"
   ]
  },
  {
   "cell_type": "code",
   "execution_count": 52,
   "id": "844d612a",
   "metadata": {},
   "outputs": [],
   "source": [
    "# d7_old_hos = old_hos[old_hos['上次在线'].dt.date > s7_date]"
   ]
  },
  {
   "cell_type": "code",
   "execution_count": 81,
   "id": "899cc8bb",
   "metadata": {},
   "outputs": [],
   "source": [
    "# d7_hos = RJhos[RJhos['上次在线'].dt.date > s7_date]"
   ]
  },
  {
   "cell_type": "code",
   "execution_count": 58,
   "id": "81782b05",
   "metadata": {},
   "outputs": [],
   "source": [
    "# s30_date = datetime.datetime.strptime('20230128', '%Y%m%d').date()"
   ]
  },
  {
   "cell_type": "code",
   "execution_count": 59,
   "id": "133f2437",
   "metadata": {},
   "outputs": [],
   "source": [
    "# d30_old_hos = old_hos[(old_hos['上次在线'].dt.date > s30_date) & (old_hos['上次在线'].dt.date <= s7_date)]"
   ]
  },
  {
   "cell_type": "code",
   "execution_count": 85,
   "id": "3c7144af",
   "metadata": {},
   "outputs": [],
   "source": [
    "# d30_hos = RJhos[(RJhos['上次在线'].dt.date > s30_date) & (RJhos['上次在线'].dt.date <= s7_date)]"
   ]
  },
  {
   "cell_type": "code",
   "execution_count": 12,
   "id": "fc7757f7",
   "metadata": {},
   "outputs": [],
   "source": [
    "s365_date = datetime.datetime.strptime('20220228', '%Y%m%d').date() # 自定义的时间标签，这个数据最新时间是2023.2.28，这里设定比这个时间早一年的数据"
   ]
  },
  {
   "cell_type": "code",
   "execution_count": 13,
   "id": "6c02b33b",
   "metadata": {},
   "outputs": [],
   "source": [
    "d365_old_hos = old_hos[old_hos['上次在线'].dt.date > s365_date] "
   ]
  },
  {
   "cell_type": "code",
   "execution_count": 14,
   "id": "6650e33a",
   "metadata": {},
   "outputs": [],
   "source": [
    "d365_hos = RJhos[RJhos['上次在线'].dt.date > s365_date]"
   ]
  },
  {
   "cell_type": "code",
   "execution_count": 15,
   "id": "cac6672f",
   "metadata": {},
   "outputs": [],
   "source": [
    "do_old_hos = old_hos[old_hos['上次在线'].dt.date <= s365_date]"
   ]
  },
  {
   "cell_type": "code",
   "execution_count": 16,
   "id": "c507f2d0",
   "metadata": {},
   "outputs": [],
   "source": [
    "do_hos = RJhos[RJhos['上次在线'].dt.date <= s365_date]"
   ]
  },
  {
   "cell_type": "code",
   "execution_count": 19,
   "id": "9e57168f",
   "metadata": {},
   "outputs": [
    {
     "data": {
      "image/png": "[encoded data removed]",
      "text/plain": [
       "<Figure size 432x288 with 2 Axes>"
      ]
     },
     "metadata": {
      "needs_background": "light"
     },
     "output_type": "display_data"
    }
   ],
   "source": [
    "fig, ax = plt.subplots(1)\n",
    "y = [d365_old_hos.shape[0]/d365_hos.shape[0], do_old_hos.shape[0]/do_hos.shape[0]]\n",
    "x = np.array([d365_hos.shape[0],do_hos.shape[0]])\n",
    "x_label = ['一年以内', '一年以上']\n",
    "width = [i/sum(x) for i in x]\n",
    "\n",
    "# calculate x coordinates based on the width of the previous bars\n",
    "# same as: [0, width[0], width[0] + width[1], width[0] + width[1] + width[2]]\n",
    "adjusted_x, temp = [0], 0\n",
    "for i in width[:-1]:\n",
    "    temp += i\n",
    "    adjusted_x.append(temp)\n",
    "\n",
    "# Marimekko chart\n",
    "plt.bar(adjusted_x, y, width=width, align='edge', edgecolor='black',color='tab:blue')\n",
    "plt.bar(adjusted_x, np.ones(len(y))-y, bottom=y, width=width, align='edge', edgecolor='black',color='tab:cyan')\n",
    "\n",
    "# x and y ticks (%)\n",
    "ax.set_yticks([0, 0.25, 0.5, 0.75, 1])\n",
    "ax.set_yticklabels(['0%', '25%', '50%', '75%', '100%'])\n",
    "ax.set_xticks([0, 0.25, 0.5, 0.75, 1])\n",
    "ax.set_xticklabels(['0%', '25%', '50%', '75%', '100%'])\n",
    "\n",
    "# 添加标题\n",
    "plt.title(\"医生活跃度对比图\", fontsize=20)\n",
    "\n",
    "plt.legend([\"原有医生\",\"新增医生\"],shadow=True,fancybox=\"blue\")\n",
    "\n",
    "plt.ylim(0,1)\n",
    "plt.xlim(0,1)\n",
    "\n",
    "# twin y-axis to draw x-ticks at the top\n",
    "axy = ax.twiny()\n",
    "axy.set_xticks([(width[i]/2)+ v for i, v in enumerate(adjusted_x)])\n",
    "axy.set_xticklabels(x_label, fontsize=14)\n",
    "\n",
    "plt.show()"
   ]
  },
  {
   "cell_type": "code",
   "execution_count": null,
   "id": "518c652e",
   "metadata": {},
   "outputs": [],
   "source": []
  },
  {
   "cell_type": "code",
   "execution_count": null,
   "id": "d0fdfe12",
   "metadata": {},
   "outputs": [],
   "source": []
  },
  {
   "cell_type": "code",
   "execution_count": null,
   "id": "46f50240",
   "metadata": {},
   "outputs": [],
   "source": []
  }
 ],
 "metadata": {
  "kernelspec": {
   "display_name": "Python 3 (ipykernel)",
   "language": "python",
   "name": "python3"
  },
  "language_info": {
   "codemirror_mode": {
    "name": "ipython",
    "version": 3
   },
   "file_extension": ".py",
   "mimetype": "text/x-python",
   "name": "python",
   "nbconvert_exporter": "python",
   "pygments_lexer": "ipython3",
   "version": "3.8.5"
  }
 },
 "nbformat": 4,
 "nbformat_minor": 5
}
