{
 "cells": [
  {
   "cell_type": "code",
   "execution_count": 24,
   "id": "4ab9c125",
   "metadata": {},
   "outputs": [],
   "source": [
    "#导入Matplotlib的pyplot模块\n",
    "import matplotlib. pyplot as plt\n",
    "plt.rcParams['font.sans-serif'] = ['SimHei'] \n",
    "plt.rcParams['axes.unicode_minus'] = False "
   ]
  },
  {
   "cell_type": "code",
   "execution_count": 1,
   "id": "91027726",
   "metadata": {},
   "outputs": [],
   "source": [
    "import pandas as pd\n",
    "import datetime\n",
    "import numpy as np"
   ]
  },
  {
   "cell_type": "code",
   "execution_count": 2,
   "id": "a7b148ef",
   "metadata": {},
   "outputs": [],
   "source": [
    "#import required modules\n",
    "from pathlib import Path\n",
    "\n",
    "#display option in jupyter notebook\n",
    "pd.set_option('display.max_columns', None)\n",
    "pd.set_option('display.max_rows', None)\n",
    "pd.set_option('max_colwidth',100)"
   ]
  },
  {
   "cell_type": "code",
   "execution_count": 9,
   "id": "e89aa6a6",
   "metadata": {
    "scrolled": false
   },
   "outputs": [],
   "source": [
    "data = pd.read_csv('2021年医生信息.csv') # 数据导入"
   ]
  },
  {
   "cell_type": "code",
   "execution_count": 10,
   "id": "c734682e",
   "metadata": {},
   "outputs": [],
   "source": [
    "RJhos = data[data[\"医院\"]==\"上海交通大学医学院附属瑞金医院\"] # 筛选瑞金医院数据"
   ]
  },
  {
   "cell_type": "code",
   "execution_count": 11,
   "id": "acd100be",
   "metadata": {},
   "outputs": [
    {
     "data": {
      "text/plain": [
       "(807, 23)"
      ]
     },
     "execution_count": 11,
     "metadata": {},
     "output_type": "execute_result"
    }
   ],
   "source": [
    "RJhos.shape"
   ]
  },
  {
   "cell_type": "code",
   "execution_count": 12,
   "id": "efeb7ecb",
   "metadata": {},
   "outputs": [
    {
     "name": "stderr",
     "output_type": "stream",
     "text": [
      "C:\\Users\\DELL\\AppData\\Local\\Temp\\ipykernel_9972\\801280585.py:1: SettingWithCopyWarning: \n",
      "A value is trying to be set on a copy of a slice from a DataFrame.\n",
      "Try using .loc[row_indexer,col_indexer] = value instead\n",
      "\n",
      "See the caveats in the documentation: https://pandas.pydata.org/pandas-docs/stable/user_guide/indexing.html#returning-a-view-versus-a-copy\n",
      "  RJhos[\"开通时间\"] = pd.to_datetime(RJhos['开通时间']) # 将开通时间字符型转化为时间型\n"
     ]
    }
   ],
   "source": [
    "RJhos[\"开通时间\"] = pd.to_datetime(RJhos['开通时间']) # 将开通时间字符型转化为时间型"
   ]
  },
  {
   "cell_type": "code",
   "execution_count": 13,
   "id": "7b360451",
   "metadata": {},
   "outputs": [
    {
     "name": "stderr",
     "output_type": "stream",
     "text": [
      "C:\\Users\\DELL\\AppData\\Local\\Temp\\ipykernel_9972\\2368649953.py:1: SettingWithCopyWarning: \n",
      "A value is trying to be set on a copy of a slice from a DataFrame.\n",
      "Try using .loc[row_indexer,col_indexer] = value instead\n",
      "\n",
      "See the caveats in the documentation: https://pandas.pydata.org/pandas-docs/stable/user_guide/indexing.html#returning-a-view-versus-a-copy\n",
      "  RJhos[\"上次在线\"] = pd.to_datetime(RJhos['上次在线']) # 将上次在线时间字符型转化为时间型\n"
     ]
    }
   ],
   "source": [
    "RJhos[\"上次在线\"] = pd.to_datetime(RJhos['上次在线']) # 将上次在线时间字符型转化为时间型"
   ]
  },
  {
   "cell_type": "code",
   "execution_count": 14,
   "id": "e058c41e",
   "metadata": {},
   "outputs": [],
   "source": [
    "s_date = datetime.datetime.strptime('20210401', '%Y%m%d').date() # 定一个时间标的，2021.4.1"
   ]
  },
  {
   "cell_type": "code",
   "execution_count": 15,
   "id": "aeffbdac",
   "metadata": {},
   "outputs": [],
   "source": [
    "old_hos = RJhos[RJhos['开通时间'].dt.date < s_date] # 筛选2021,4,1之前开通的医生"
   ]
  },
  {
   "cell_type": "code",
   "execution_count": 17,
   "id": "365eb479",
   "metadata": {},
   "outputs": [],
   "source": [
    "new_hos = RJhos[RJhos['开通时间'].dt.date >= s_date] # 筛选2021,4,1之后开通的医生"
   ]
  },
  {
   "cell_type": "code",
   "execution_count": 18,
   "id": "ad11745f",
   "metadata": {},
   "outputs": [],
   "source": [
    "O=old_hos.groupby('标准科室')['医生脱敏唯一标识'].count().reset_index()"
   ]
  },
  {
   "cell_type": "code",
   "execution_count": 19,
   "id": "0d4fb7b2",
   "metadata": {},
   "outputs": [],
   "source": [
    "N=new_hos.groupby('标准科室')['医生脱敏唯一标识'].count().reset_index()"
   ]
  },
  {
   "cell_type": "code",
   "execution_count": 20,
   "id": "b2bd0780",
   "metadata": {},
   "outputs": [
    {
     "data": {
      "text/html": [
       "<div>\n",
       "<style scoped>\n",
       "    .dataframe tbody tr th:only-of-type {\n",
       "        vertical-align: middle;\n",
       "    }\n",
       "\n",
       "    .dataframe tbody tr th {\n",
       "        vertical-align: top;\n",
       "    }\n",
       "\n",
       "    .dataframe thead th {\n",
       "        text-align: right;\n",
       "    }\n",
       "</style>\n",
       "<table border=\"1\" class=\"dataframe\">\n",
       "  <thead>\n",
       "    <tr style=\"text-align: right;\">\n",
       "      <th></th>\n",
       "      <th>标准科室</th>\n",
       "      <th>医生脱敏唯一标识_x</th>\n",
       "      <th>医生脱敏唯一标识_y</th>\n",
       "    </tr>\n",
       "  </thead>\n",
       "  <tbody>\n",
       "    <tr>\n",
       "      <th>0</th>\n",
       "      <td>乳腺外科</td>\n",
       "      <td>6</td>\n",
       "      <td>8</td>\n",
       "    </tr>\n",
       "    <tr>\n",
       "      <th>1</th>\n",
       "      <td>儿科</td>\n",
       "      <td>21</td>\n",
       "      <td>7</td>\n",
       "    </tr>\n",
       "    <tr>\n",
       "      <th>2</th>\n",
       "      <td>功能神经外科</td>\n",
       "      <td>13</td>\n",
       "      <td>3</td>\n",
       "    </tr>\n",
       "    <tr>\n",
       "      <th>3</th>\n",
       "      <td>医学影像科</td>\n",
       "      <td>6</td>\n",
       "      <td>6</td>\n",
       "    </tr>\n",
       "    <tr>\n",
       "      <th>4</th>\n",
       "      <td>呼吸科</td>\n",
       "      <td>14</td>\n",
       "      <td>2</td>\n",
       "    </tr>\n",
       "    <tr>\n",
       "      <th>5</th>\n",
       "      <td>妇产科</td>\n",
       "      <td>12</td>\n",
       "      <td>6</td>\n",
       "    </tr>\n",
       "    <tr>\n",
       "      <th>6</th>\n",
       "      <td>康复科</td>\n",
       "      <td>9</td>\n",
       "      <td>2</td>\n",
       "    </tr>\n",
       "    <tr>\n",
       "      <th>7</th>\n",
       "      <td>心血管内科</td>\n",
       "      <td>44</td>\n",
       "      <td>2</td>\n",
       "    </tr>\n",
       "    <tr>\n",
       "      <th>8</th>\n",
       "      <td>心血管外科</td>\n",
       "      <td>20</td>\n",
       "      <td>3</td>\n",
       "    </tr>\n",
       "    <tr>\n",
       "      <th>9</th>\n",
       "      <td>急诊科</td>\n",
       "      <td>5</td>\n",
       "      <td>1</td>\n",
       "    </tr>\n",
       "    <tr>\n",
       "      <th>10</th>\n",
       "      <td>感染内科</td>\n",
       "      <td>13</td>\n",
       "      <td>1</td>\n",
       "    </tr>\n",
       "    <tr>\n",
       "      <th>11</th>\n",
       "      <td>普外科</td>\n",
       "      <td>79</td>\n",
       "      <td>23</td>\n",
       "    </tr>\n",
       "    <tr>\n",
       "      <th>12</th>\n",
       "      <td>普通内科</td>\n",
       "      <td>25</td>\n",
       "      <td>7</td>\n",
       "    </tr>\n",
       "    <tr>\n",
       "      <th>13</th>\n",
       "      <td>核医学科</td>\n",
       "      <td>10</td>\n",
       "      <td>2</td>\n",
       "    </tr>\n",
       "    <tr>\n",
       "      <th>14</th>\n",
       "      <td>消化内科</td>\n",
       "      <td>28</td>\n",
       "      <td>4</td>\n",
       "    </tr>\n",
       "    <tr>\n",
       "      <th>15</th>\n",
       "      <td>烧伤科</td>\n",
       "      <td>18</td>\n",
       "      <td>2</td>\n",
       "    </tr>\n",
       "    <tr>\n",
       "      <th>16</th>\n",
       "      <td>生殖</td>\n",
       "      <td>8</td>\n",
       "      <td>2</td>\n",
       "    </tr>\n",
       "    <tr>\n",
       "      <th>17</th>\n",
       "      <td>皮肤性病科</td>\n",
       "      <td>16</td>\n",
       "      <td>4</td>\n",
       "    </tr>\n",
       "    <tr>\n",
       "      <th>18</th>\n",
       "      <td>眼科</td>\n",
       "      <td>19</td>\n",
       "      <td>3</td>\n",
       "    </tr>\n",
       "    <tr>\n",
       "      <th>19</th>\n",
       "      <td>神经内科</td>\n",
       "      <td>32</td>\n",
       "      <td>11</td>\n",
       "    </tr>\n",
       "    <tr>\n",
       "      <th>20</th>\n",
       "      <td>神经外科</td>\n",
       "      <td>19</td>\n",
       "      <td>5</td>\n",
       "    </tr>\n",
       "    <tr>\n",
       "      <th>21</th>\n",
       "      <td>耳鼻喉</td>\n",
       "      <td>19</td>\n",
       "      <td>1</td>\n",
       "    </tr>\n",
       "    <tr>\n",
       "      <th>22</th>\n",
       "      <td>肝胆外科</td>\n",
       "      <td>9</td>\n",
       "      <td>1</td>\n",
       "    </tr>\n",
       "    <tr>\n",
       "      <th>23</th>\n",
       "      <td>肿瘤内科</td>\n",
       "      <td>5</td>\n",
       "      <td>4</td>\n",
       "    </tr>\n",
       "    <tr>\n",
       "      <th>24</th>\n",
       "      <td>胸外科</td>\n",
       "      <td>12</td>\n",
       "      <td>4</td>\n",
       "    </tr>\n",
       "    <tr>\n",
       "      <th>25</th>\n",
       "      <td>药剂科</td>\n",
       "      <td>1</td>\n",
       "      <td>1</td>\n",
       "    </tr>\n",
       "    <tr>\n",
       "      <th>26</th>\n",
       "      <td>血液科</td>\n",
       "      <td>25</td>\n",
       "      <td>3</td>\n",
       "    </tr>\n",
       "    <tr>\n",
       "      <th>27</th>\n",
       "      <td>超声科</td>\n",
       "      <td>13</td>\n",
       "      <td>6</td>\n",
       "    </tr>\n",
       "    <tr>\n",
       "      <th>28</th>\n",
       "      <td>骨科</td>\n",
       "      <td>36</td>\n",
       "      <td>6</td>\n",
       "    </tr>\n",
       "  </tbody>\n",
       "</table>\n",
       "</div>"
      ],
      "text/plain": [
       "      标准科室  医生脱敏唯一标识_x  医生脱敏唯一标识_y\n",
       "0     乳腺外科           6           8\n",
       "1       儿科          21           7\n",
       "2   功能神经外科          13           3\n",
       "3    医学影像科           6           6\n",
       "4      呼吸科          14           2\n",
       "5      妇产科          12           6\n",
       "6      康复科           9           2\n",
       "7    心血管内科          44           2\n",
       "8    心血管外科          20           3\n",
       "9      急诊科           5           1\n",
       "10    感染内科          13           1\n",
       "11     普外科          79          23\n",
       "12    普通内科          25           7\n",
       "13    核医学科          10           2\n",
       "14    消化内科          28           4\n",
       "15     烧伤科          18           2\n",
       "16      生殖           8           2\n",
       "17   皮肤性病科          16           4\n",
       "18      眼科          19           3\n",
       "19    神经内科          32          11\n",
       "20    神经外科          19           5\n",
       "21     耳鼻喉          19           1\n",
       "22    肝胆外科           9           1\n",
       "23    肿瘤内科           5           4\n",
       "24     胸外科          12           4\n",
       "25     药剂科           1           1\n",
       "26     血液科          25           3\n",
       "27     超声科          13           6\n",
       "28      骨科          36           6"
      ]
     },
     "execution_count": 20,
     "metadata": {},
     "output_type": "execute_result"
    }
   ],
   "source": [
    "A=pd.merge(O,N,on='标准科室')\n",
    "A"
   ]
  },
  {
   "cell_type": "code",
   "execution_count": 21,
   "id": "992f502e",
   "metadata": {},
   "outputs": [],
   "source": [
    "A.sort_values(['医生脱敏唯一标识_y'],ascending=False,inplace=True)"
   ]
  },
  {
   "cell_type": "code",
   "execution_count": 44,
   "id": "43aadd84",
   "metadata": {},
   "outputs": [],
   "source": [
    "x_data=A['标准科室'].values[:15]\n",
    "y_data1=A['医生脱敏唯一标识_x'].values[:15]\n",
    "y_data2=A['医生脱敏唯一标识_y'].values[:15]"
   ]
  },
  {
   "cell_type": "code",
   "execution_count": 46,
   "id": "d7959ff4",
   "metadata": {},
   "outputs": [
    {
     "name": "stderr",
     "output_type": "stream",
     "text": [
      "C:\\Users\\DELL\\AppData\\Local\\Temp\\ipykernel_9972\\3524439632.py:9: UserWarning: FixedFormatter should only be used together with FixedLocator\n",
      "  ax.set_xticklabels(x_data, rotation=45, ha='center')\n"
     ]
    },
    {
     "data": {
      "image/png": "[encoded data removed]",
      "text/plain": [
       "<Figure size 432x288 with 1 Axes>"
      ]
     },
     "metadata": {
      "needs_background": "light"
     },
     "output_type": "display_data"
    }
   ],
   "source": [
    "fig, ax = plt.subplots()#创建子图，参数均为默认\n",
    "plt.title(\"新增医生科室情况图Top15\", fontsize=20)\n",
    "ax.bar(x_data, y_data1, width=.8, color='tab:blue',ec='k',lw=.6)\n",
    "ax.bar(x_data, y_data2, width=.8,  bottom=y_data1, color='tab:cyan',ec='k',lw=.6)\n",
    "#设置坐标轴的标签，字体大小设为13，用fontsize设置字体大小\n",
    "ax.set_ylabel('人数',fontsize=13)\n",
    "ax.set_xlabel('科室',fontsize=13)\n",
    "\n",
    "ax.set_xticklabels(x_data, rotation=45, ha='center')\n",
    "\n",
    "plt.show()"
   ]
  },
  {
   "cell_type": "code",
   "execution_count": null,
   "id": "9554a030",
   "metadata": {},
   "outputs": [],
   "source": []
  }
 ],
 "metadata": {
  "kernelspec": {
   "display_name": "Python 3 (ipykernel)",
   "language": "python",
   "name": "python3"
  },
  "language_info": {
   "codemirror_mode": {
    "name": "ipython",
    "version": 3
   },
   "file_extension": ".py",
   "mimetype": "text/x-python",
   "name": "python",
   "nbconvert_exporter": "python",
   "pygments_lexer": "ipython3",
   "version": "3.8.5"
  }
 },
 "nbformat": 4,
 "nbformat_minor": 5
}
