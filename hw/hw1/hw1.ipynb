{
 "cells": [
  {
   "cell_type": "markdown",
   "id": "06c43f7a",
   "metadata": {},
   "source": [
    "##  作业一\n",
    "\n",
    "#### 1. 输出指定范围内的素数。 "
   ]
  },
  {
   "cell_type": "code",
   "execution_count": 15,
   "id": "a2975222",
   "metadata": {},
   "outputs": [
    {
     "name": "stdout",
     "output_type": "stream",
     "text": [
      "2\n",
      "3\n",
      "5\n",
      "7\n",
      "11\n",
      "13\n",
      "17\n",
      "19\n",
      "23\n",
      "29\n",
      "31\n",
      "37\n",
      "41\n",
      "43\n",
      "47\n",
      "53\n",
      "59\n",
      "61\n",
      "67\n",
      "71\n",
      "73\n",
      "79\n",
      "83\n",
      "89\n",
      "97\n"
     ]
    }
   ],
   "source": [
    "# 用户输入数据\n",
    "lower = int(input(\"输入区间最小值: \"))\n",
    "upper = int(input(\"输入区间最大值: \"))\n",
    "# 打印出所有素数\n",
    "for num in range(lower,upper + 1):\n",
    "    if num > 1:\n",
    "        for j in range(2, num):\n",
    "            if (num % j) == 0:\n",
    "                break\n",
    "        else:\n",
    "            print(num)"
   ]
  },
  {
   "cell_type": "markdown",
   "id": "08af564f",
   "metadata": {},
   "source": [
    "#### 2. 给定列表，将列表中元素的值翻倍。如果不是数值类型则不做处理。"
   ]
  },
  {
   "cell_type": "code",
   "execution_count": 16,
   "id": "cd131595",
   "metadata": {},
   "outputs": [
    {
     "name": "stdout",
     "output_type": "stream",
     "text": [
      "[2, [4, 6], True]\n"
     ]
    }
   ],
   "source": [
    "lst = [1, [2, 3], True]\n",
    "def double_list(lst):\n",
    "    for index, value in enumerate(lst):\n",
    "        if isinstance(value, bool):\n",
    "            continue\n",
    "        if isinstance(value, (int, float)):\n",
    "            lst[index] *= 2\n",
    "        if isinstance(value, list):\n",
    "            double_list(value)\n",
    "double_list(lst)\n",
    "print(lst)"
   ]
  },
  {
   "cell_type": "markdown",
   "id": "78a6da75",
   "metadata": {},
   "source": [
    "#### 3. 将字典中的键全部变为小写，值的数字变成字符串，并打印出结果。\n"
   ]
  },
  {
   "cell_type": "code",
   "execution_count": 33,
   "id": "7e4464b3",
   "metadata": {},
   "outputs": [
    {
     "name": "stdout",
     "output_type": "stream",
     "text": [
      "{'cat': 1, 'dog': 2, 'fox': 5, 'wolf': 6, 'fish': 3, 'horse': 4}\n"
     ]
    }
   ],
   "source": [
    "# \"Fish\": 3, \"Horse\": 4, d = {\"Cat\": 1, \"Dog\": 2, \"Fox\": 5, \"Wolf\": 6}\n",
    "d = {\"Cat\": 1, \"Dog\": 2, \"Fox\": 5, \"Wolf\": 6}\n",
    "new_d = {k: v for k, v in d.items()}\n",
    "new_d[\"Fish\"] = 3\n",
    "new_d[\"Horse\"] = 4\n",
    "def capital_to_lower(dict_info):\n",
    "    new_dict = {}\n",
    "    for i, j in dict_info.items():\n",
    "        new_dict[i.lower()] = j\n",
    "    return new_dict\n",
    "print(capital_to_lower(new_d))"
   ]
  },
  {
   "cell_type": "markdown",
   "id": "4ed4d4fc",
   "metadata": {},
   "source": [
    "#### 4. 已知门禁密码包含且仅包含{1, 2, 3}三个数字，输出所有可能六位数密码的个数。"
   ]
  },
  {
   "cell_type": "code",
   "execution_count": 31,
   "id": "56651ebc",
   "metadata": {},
   "outputs": [
    {
     "name": "stdout",
     "output_type": "stream",
     "text": [
      "540\n"
     ]
    }
   ],
   "source": [
    "# 包含数字\n",
    "chs = set([1,2,3])\n",
    "#打印出所有可能的密码\n",
    "# 这里补全代码\n",
    "import itertools\n",
    "count = 0\n",
    "for password in itertools.product(chs, repeat=6):\n",
    "    if len(set(password)) == 3:\n",
    "        count += 1\n",
    "print(count)\n"
   ]
  },
  {
   "cell_type": "markdown",
   "id": "04103b8c",
   "metadata": {},
   "source": [
    "#### 5. 字符串的编辑距离，又称为Levenshtein距离，是指利用字符操作，把字符串A转换成字符串B所需要的最少操作数。其中，字符操作包括：插入一个字符、删除一个字符、修改一个字符。例如从”there” 到”their”可以通过删除一个”e”并插入一个”i”，或者通过修改两个字符（\"r”到”i”，”e”到”r”）来实现，因此其编辑距离为2。编写程序计算指定字符串之间的编辑距离。"
   ]
  },
  {
   "cell_type": "code",
   "execution_count": 19,
   "id": "2b073d02",
   "metadata": {},
   "outputs": [
    {
     "name": "stdout",
     "output_type": "stream",
     "text": [
      "2\n"
     ]
    }
   ],
   "source": [
    "# 动态规划算法计算编辑距离\n",
    "def edit_dist(str1, str2):\n",
    "    n, m = len(str1), len(str2)\n",
    "    dp = [[0 for _ in range(m+1)] for _ in range(n+1)] # 初始化两个字符串的所有左片段之间的距离\n",
    "    for col in range(n + 1):\n",
    "        dp[0][col] = col\n",
    "    for row in range(m + 1):\n",
    "        dp[row][0] = row\n",
    "    for row in range(1, m+1):\n",
    "        for col in range(1, n+1):\n",
    "            if str1[col-1] != str2[row-1]:\n",
    "                dp[row][col] = min(dp[row - 1][col], dp[row - 1][col-1], dp[row][col-1]) + 1\n",
    "            else:\n",
    "                dp[row][col] = dp[row-1][col-1]\n",
    "    return dp[n][m]\n",
    "                               \n",
    "print(edit_dist(\"there\",\"their\"))"
   ]
  }
 ],
 "metadata": {
  "kernelspec": {
   "display_name": "Python 3 (ipykernel)",
   "language": "python",
   "name": "python3"
  },
  "language_info": {
   "codemirror_mode": {
    "name": "ipython",
    "version": 3
   },
   "file_extension": ".py",
   "mimetype": "text/x-python",
   "name": "python",
   "nbconvert_exporter": "python",
   "pygments_lexer": "ipython3",
   "version": "3.9.18"
  }
 },
 "nbformat": 4,
 "nbformat_minor": 5
}
